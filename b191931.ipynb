{
 "cells": [
  {
   "cell_type": "code",
   "execution_count": 1,
   "metadata": {},
   "outputs": [
    {
     "name": "stdout",
     "output_type": "stream",
     "text": [
      "/home/cse-lab/meghana1931\r\n"
     ]
    }
   ],
   "source": [
    "!pwd\n"
   ]
  },
  {
   "cell_type": "code",
   "execution_count": 2,
   "metadata": {},
   "outputs": [
    {
     "name": "stdout",
     "output_type": "stream",
     "text": [
      "b191931.ipynb\t\t\t res\t  Untitled1.ipynb  Untitled.ipynb\r\n",
      "MELBOURNE_HOUSE_PRICES_LESS.csv  res.tex  Untitled2.ipynb\r\n"
     ]
    }
   ],
   "source": [
    "!ls"
   ]
  },
  {
   "cell_type": "code",
   "execution_count": 3,
   "metadata": {},
   "outputs": [],
   "source": [
    "import pandas as pd"
   ]
  },
  {
   "cell_type": "code",
   "execution_count": 8,
   "metadata": {},
   "outputs": [],
   "source": [
    "df = pd.read_csv(\"MELBOURNE_HOUSE_PRICES_LESS.csv\")"
   ]
  },
  {
   "cell_type": "code",
   "execution_count": 93,
   "metadata": {},
   "outputs": [
    {
     "data": {
      "text/html": [
       "<div>\n",
       "<style scoped>\n",
       "    .dataframe tbody tr th:only-of-type {\n",
       "        vertical-align: middle;\n",
       "    }\n",
       "\n",
       "    .dataframe tbody tr th {\n",
       "        vertical-align: top;\n",
       "    }\n",
       "\n",
       "    .dataframe thead th {\n",
       "        text-align: right;\n",
       "    }\n",
       "</style>\n",
       "<table border=\"1\" class=\"dataframe\">\n",
       "  <thead>\n",
       "    <tr style=\"text-align: right;\">\n",
       "      <th></th>\n",
       "      <th>Suburb</th>\n",
       "      <th>Address</th>\n",
       "      <th>Rooms</th>\n",
       "      <th>Type</th>\n",
       "      <th>Price</th>\n",
       "      <th>Method</th>\n",
       "      <th>SellerG</th>\n",
       "      <th>Date</th>\n",
       "      <th>Postcode</th>\n",
       "      <th>Regionname</th>\n",
       "      <th>Propertycount</th>\n",
       "      <th>Distance</th>\n",
       "      <th>CouncilArea</th>\n",
       "    </tr>\n",
       "  </thead>\n",
       "  <tbody>\n",
       "    <tr>\n",
       "      <th>0</th>\n",
       "      <td>Abbotsford</td>\n",
       "      <td>49 Lithgow St</td>\n",
       "      <td>3</td>\n",
       "      <td>h</td>\n",
       "      <td>1490000.0</td>\n",
       "      <td>S</td>\n",
       "      <td>Jellis</td>\n",
       "      <td>1/04/2017</td>\n",
       "      <td>3067</td>\n",
       "      <td>Northern Metropolitan</td>\n",
       "      <td>4019</td>\n",
       "      <td>3.0</td>\n",
       "      <td>Yarra City Council</td>\n",
       "    </tr>\n",
       "    <tr>\n",
       "      <th>1</th>\n",
       "      <td>Abbotsford</td>\n",
       "      <td>59A Turner St</td>\n",
       "      <td>3</td>\n",
       "      <td>h</td>\n",
       "      <td>1220000.0</td>\n",
       "      <td>S</td>\n",
       "      <td>Marshall</td>\n",
       "      <td>1/04/2017</td>\n",
       "      <td>3067</td>\n",
       "      <td>Northern Metropolitan</td>\n",
       "      <td>4019</td>\n",
       "      <td>3.0</td>\n",
       "      <td>Yarra City Council</td>\n",
       "    </tr>\n",
       "    <tr>\n",
       "      <th>2</th>\n",
       "      <td>Abbotsford</td>\n",
       "      <td>119B Yarra St</td>\n",
       "      <td>3</td>\n",
       "      <td>h</td>\n",
       "      <td>1420000.0</td>\n",
       "      <td>S</td>\n",
       "      <td>Nelson</td>\n",
       "      <td>1/04/2017</td>\n",
       "      <td>3067</td>\n",
       "      <td>Northern Metropolitan</td>\n",
       "      <td>4019</td>\n",
       "      <td>3.0</td>\n",
       "      <td>Yarra City Council</td>\n",
       "    </tr>\n",
       "    <tr>\n",
       "      <th>3</th>\n",
       "      <td>Aberfeldie</td>\n",
       "      <td>68 Vida St</td>\n",
       "      <td>3</td>\n",
       "      <td>h</td>\n",
       "      <td>1515000.0</td>\n",
       "      <td>S</td>\n",
       "      <td>Barry</td>\n",
       "      <td>1/04/2017</td>\n",
       "      <td>3040</td>\n",
       "      <td>Western Metropolitan</td>\n",
       "      <td>1543</td>\n",
       "      <td>7.5</td>\n",
       "      <td>Moonee Valley City Council</td>\n",
       "    </tr>\n",
       "    <tr>\n",
       "      <th>4</th>\n",
       "      <td>Airport West</td>\n",
       "      <td>92 Clydesdale Rd</td>\n",
       "      <td>2</td>\n",
       "      <td>h</td>\n",
       "      <td>670000.0</td>\n",
       "      <td>S</td>\n",
       "      <td>Nelson</td>\n",
       "      <td>1/04/2017</td>\n",
       "      <td>3042</td>\n",
       "      <td>Western Metropolitan</td>\n",
       "      <td>3464</td>\n",
       "      <td>10.4</td>\n",
       "      <td>Moonee Valley City Council</td>\n",
       "    </tr>\n",
       "    <tr>\n",
       "      <th>5</th>\n",
       "      <td>Airport West</td>\n",
       "      <td>4/32 Earl St</td>\n",
       "      <td>2</td>\n",
       "      <td>t</td>\n",
       "      <td>530000.0</td>\n",
       "      <td>S</td>\n",
       "      <td>Jellis</td>\n",
       "      <td>1/04/2017</td>\n",
       "      <td>3042</td>\n",
       "      <td>Western Metropolitan</td>\n",
       "      <td>3464</td>\n",
       "      <td>10.4</td>\n",
       "      <td>Moonee Valley City Council</td>\n",
       "    </tr>\n",
       "    <tr>\n",
       "      <th>6</th>\n",
       "      <td>Airport West</td>\n",
       "      <td>3/74 Hawker St</td>\n",
       "      <td>2</td>\n",
       "      <td>u</td>\n",
       "      <td>540000.0</td>\n",
       "      <td>S</td>\n",
       "      <td>Barry</td>\n",
       "      <td>1/04/2017</td>\n",
       "      <td>3042</td>\n",
       "      <td>Western Metropolitan</td>\n",
       "      <td>3464</td>\n",
       "      <td>10.4</td>\n",
       "      <td>Moonee Valley City Council</td>\n",
       "    </tr>\n",
       "    <tr>\n",
       "      <th>7</th>\n",
       "      <td>Airport West</td>\n",
       "      <td>1/26 Highridge Cr</td>\n",
       "      <td>3</td>\n",
       "      <td>h</td>\n",
       "      <td>715000.0</td>\n",
       "      <td>SP</td>\n",
       "      <td>Nelson</td>\n",
       "      <td>1/04/2017</td>\n",
       "      <td>3042</td>\n",
       "      <td>Western Metropolitan</td>\n",
       "      <td>3464</td>\n",
       "      <td>10.4</td>\n",
       "      <td>Moonee Valley City Council</td>\n",
       "    </tr>\n",
       "    <tr>\n",
       "      <th>9</th>\n",
       "      <td>Albert Park</td>\n",
       "      <td>18 Mills St</td>\n",
       "      <td>3</td>\n",
       "      <td>h</td>\n",
       "      <td>1925000.0</td>\n",
       "      <td>S</td>\n",
       "      <td>Cayzer</td>\n",
       "      <td>1/04/2017</td>\n",
       "      <td>3206</td>\n",
       "      <td>Southern Metropolitan</td>\n",
       "      <td>3280</td>\n",
       "      <td>3.0</td>\n",
       "      <td>Port Phillip City Council</td>\n",
       "    </tr>\n",
       "    <tr>\n",
       "      <th>10</th>\n",
       "      <td>Albion</td>\n",
       "      <td>3/15 Drummartin St</td>\n",
       "      <td>3</td>\n",
       "      <td>u</td>\n",
       "      <td>515000.0</td>\n",
       "      <td>S</td>\n",
       "      <td>Douglas</td>\n",
       "      <td>1/04/2017</td>\n",
       "      <td>3020</td>\n",
       "      <td>Western Metropolitan</td>\n",
       "      <td>2185</td>\n",
       "      <td>10.5</td>\n",
       "      <td>Brimbank City Council</td>\n",
       "    </tr>\n",
       "    <tr>\n",
       "      <th>11</th>\n",
       "      <td>Albion</td>\n",
       "      <td>3A Kororoit St</td>\n",
       "      <td>4</td>\n",
       "      <td>h</td>\n",
       "      <td>717000.0</td>\n",
       "      <td>S</td>\n",
       "      <td>Bells</td>\n",
       "      <td>1/04/2017</td>\n",
       "      <td>3020</td>\n",
       "      <td>Western Metropolitan</td>\n",
       "      <td>2185</td>\n",
       "      <td>10.5</td>\n",
       "      <td>Brimbank City Council</td>\n",
       "    </tr>\n",
       "  </tbody>\n",
       "</table>\n",
       "</div>"
      ],
      "text/plain": [
       "          Suburb             Address  Rooms Type      Price Method   SellerG  \\\n",
       "0     Abbotsford       49 Lithgow St      3    h  1490000.0      S    Jellis   \n",
       "1     Abbotsford       59A Turner St      3    h  1220000.0      S  Marshall   \n",
       "2     Abbotsford       119B Yarra St      3    h  1420000.0      S    Nelson   \n",
       "3     Aberfeldie          68 Vida St      3    h  1515000.0      S     Barry   \n",
       "4   Airport West    92 Clydesdale Rd      2    h   670000.0      S    Nelson   \n",
       "5   Airport West        4/32 Earl St      2    t   530000.0      S    Jellis   \n",
       "6   Airport West      3/74 Hawker St      2    u   540000.0      S     Barry   \n",
       "7   Airport West   1/26 Highridge Cr      3    h   715000.0     SP    Nelson   \n",
       "9    Albert Park         18 Mills St      3    h  1925000.0      S    Cayzer   \n",
       "10        Albion  3/15 Drummartin St      3    u   515000.0      S   Douglas   \n",
       "11        Albion      3A Kororoit St      4    h   717000.0      S     Bells   \n",
       "\n",
       "         Date  Postcode             Regionname  Propertycount  Distance  \\\n",
       "0   1/04/2017      3067  Northern Metropolitan           4019       3.0   \n",
       "1   1/04/2017      3067  Northern Metropolitan           4019       3.0   \n",
       "2   1/04/2017      3067  Northern Metropolitan           4019       3.0   \n",
       "3   1/04/2017      3040   Western Metropolitan           1543       7.5   \n",
       "4   1/04/2017      3042   Western Metropolitan           3464      10.4   \n",
       "5   1/04/2017      3042   Western Metropolitan           3464      10.4   \n",
       "6   1/04/2017      3042   Western Metropolitan           3464      10.4   \n",
       "7   1/04/2017      3042   Western Metropolitan           3464      10.4   \n",
       "9   1/04/2017      3206  Southern Metropolitan           3280       3.0   \n",
       "10  1/04/2017      3020   Western Metropolitan           2185      10.5   \n",
       "11  1/04/2017      3020   Western Metropolitan           2185      10.5   \n",
       "\n",
       "                   CouncilArea  \n",
       "0           Yarra City Council  \n",
       "1           Yarra City Council  \n",
       "2           Yarra City Council  \n",
       "3   Moonee Valley City Council  \n",
       "4   Moonee Valley City Council  \n",
       "5   Moonee Valley City Council  \n",
       "6   Moonee Valley City Council  \n",
       "7   Moonee Valley City Council  \n",
       "9    Port Phillip City Council  \n",
       "10       Brimbank City Council  \n",
       "11       Brimbank City Council  "
      ]
     },
     "execution_count": 93,
     "metadata": {},
     "output_type": "execute_result"
    }
   ],
   "source": [
    "df.head(11)"
   ]
  },
  {
   "cell_type": "code",
   "execution_count": 11,
   "metadata": {},
   "outputs": [
    {
     "data": {
      "text/html": [
       "<div>\n",
       "<style scoped>\n",
       "    .dataframe tbody tr th:only-of-type {\n",
       "        vertical-align: middle;\n",
       "    }\n",
       "\n",
       "    .dataframe tbody tr th {\n",
       "        vertical-align: top;\n",
       "    }\n",
       "\n",
       "    .dataframe thead th {\n",
       "        text-align: right;\n",
       "    }\n",
       "</style>\n",
       "<table border=\"1\" class=\"dataframe\">\n",
       "  <thead>\n",
       "    <tr style=\"text-align: right;\">\n",
       "      <th></th>\n",
       "      <th>Suburb</th>\n",
       "      <th>Address</th>\n",
       "      <th>Rooms</th>\n",
       "      <th>Type</th>\n",
       "      <th>Price</th>\n",
       "      <th>Method</th>\n",
       "      <th>SellerG</th>\n",
       "      <th>Date</th>\n",
       "      <th>Postcode</th>\n",
       "      <th>Regionname</th>\n",
       "      <th>Propertycount</th>\n",
       "      <th>Distance</th>\n",
       "      <th>CouncilArea</th>\n",
       "    </tr>\n",
       "  </thead>\n",
       "  <tbody>\n",
       "    <tr>\n",
       "      <th>63020</th>\n",
       "      <td>Roxburgh Park</td>\n",
       "      <td>5 Parkinson Wy</td>\n",
       "      <td>3</td>\n",
       "      <td>h</td>\n",
       "      <td>545000.0</td>\n",
       "      <td>S</td>\n",
       "      <td>Raine</td>\n",
       "      <td>31/03/2018</td>\n",
       "      <td>3064</td>\n",
       "      <td>Northern Metropolitan</td>\n",
       "      <td>5833</td>\n",
       "      <td>20.6</td>\n",
       "      <td>Hume City Council</td>\n",
       "    </tr>\n",
       "    <tr>\n",
       "      <th>63021</th>\n",
       "      <td>Thomastown</td>\n",
       "      <td>3/1 Travers St</td>\n",
       "      <td>3</td>\n",
       "      <td>u</td>\n",
       "      <td>NaN</td>\n",
       "      <td>PI</td>\n",
       "      <td>Barry</td>\n",
       "      <td>31/03/2018</td>\n",
       "      <td>3074</td>\n",
       "      <td>Northern Metropolitan</td>\n",
       "      <td>7955</td>\n",
       "      <td>15.3</td>\n",
       "      <td>Whittlesea City Council</td>\n",
       "    </tr>\n",
       "    <tr>\n",
       "      <th>63022</th>\n",
       "      <td>Williams Landing</td>\n",
       "      <td>1 Diadem Wy</td>\n",
       "      <td>4</td>\n",
       "      <td>h</td>\n",
       "      <td>NaN</td>\n",
       "      <td>SP</td>\n",
       "      <td>Aussie</td>\n",
       "      <td>31/03/2018</td>\n",
       "      <td>3027</td>\n",
       "      <td>Western Metropolitan</td>\n",
       "      <td>1999</td>\n",
       "      <td>17.6</td>\n",
       "      <td>Wyndham City Council</td>\n",
       "    </tr>\n",
       "  </tbody>\n",
       "</table>\n",
       "</div>"
      ],
      "text/plain": [
       "                 Suburb         Address  Rooms Type     Price Method SellerG  \\\n",
       "63020     Roxburgh Park  5 Parkinson Wy      3    h  545000.0      S   Raine   \n",
       "63021        Thomastown  3/1 Travers St      3    u       NaN     PI   Barry   \n",
       "63022  Williams Landing     1 Diadem Wy      4    h       NaN     SP  Aussie   \n",
       "\n",
       "             Date  Postcode             Regionname  Propertycount  Distance  \\\n",
       "63020  31/03/2018      3064  Northern Metropolitan           5833      20.6   \n",
       "63021  31/03/2018      3074  Northern Metropolitan           7955      15.3   \n",
       "63022  31/03/2018      3027   Western Metropolitan           1999      17.6   \n",
       "\n",
       "                   CouncilArea  \n",
       "63020        Hume City Council  \n",
       "63021  Whittlesea City Council  \n",
       "63022     Wyndham City Council  "
      ]
     },
     "execution_count": 11,
     "metadata": {},
     "output_type": "execute_result"
    }
   ],
   "source": [
    "df.tail(3)"
   ]
  },
  {
   "cell_type": "code",
   "execution_count": 12,
   "metadata": {},
   "outputs": [
    {
     "name": "stdout",
     "output_type": "stream",
     "text": [
      "(63023, 13)\n"
     ]
    }
   ],
   "source": [
    "print(df.shape)"
   ]
  },
  {
   "cell_type": "code",
   "execution_count": 13,
   "metadata": {},
   "outputs": [],
   "source": [
    "df=df.dropna()"
   ]
  },
  {
   "cell_type": "code",
   "execution_count": 14,
   "metadata": {},
   "outputs": [
    {
     "name": "stdout",
     "output_type": "stream",
     "text": [
      "(48433, 13)\n"
     ]
    }
   ],
   "source": [
    "print(df.shape)"
   ]
  },
  {
   "cell_type": "code",
   "execution_count": 15,
   "metadata": {},
   "outputs": [],
   "source": [
    "rooms=df[\"Rooms\"]"
   ]
  },
  {
   "cell_type": "code",
   "execution_count": 16,
   "metadata": {},
   "outputs": [],
   "source": [
    "price=df[\"Price\"]"
   ]
  },
  {
   "cell_type": "code",
   "execution_count": 17,
   "metadata": {},
   "outputs": [],
   "source": [
    "import matplotlib.pyplot as plt"
   ]
  },
  {
   "cell_type": "code",
   "execution_count": 28,
   "metadata": {},
   "outputs": [
    {
     "name": "stdout",
     "output_type": "stream",
     "text": [
      "85000.0\n",
      "11200000.0\n"
     ]
    }
   ],
   "source": [
    "print(min(price))\n",
    "print(max(price))"
   ]
  },
  {
   "cell_type": "code",
   "execution_count": null,
   "metadata": {},
   "outputs": [],
   "source": [
    "print(max(price))"
   ]
  },
  {
   "cell_type": "code",
   "execution_count": 45,
   "metadata": {},
   "outputs": [
    {
     "data": {
      "image/png": "[encoded data removed]",
      "text/plain": [
       "<Figure size 432x288 with 1 Axes>"
      ]
     },
     "metadata": {
      "needs_background": "light"
     },
     "output_type": "display_data"
    }
   ],
   "source": [
    "fig =plt.figure()\n",
    "plt.hist(x=price,edgecolor=\"black\",color=\"lightblue\",bins=55)\n",
    "plt.xlabel(\"price range\")\n",
    "plt.ylabel(\"NO.OF houses\")\n",
    "plt.title(\"Histogram of prices\")\n",
    "plt.show()"
   ]
  },
  {
   "cell_type": "code",
   "execution_count": 20,
   "metadata": {},
   "outputs": [],
   "source": [
    "rooms_count=df[\"Rooms\"].value_counts()"
   ]
  },
  {
   "cell_type": "code",
   "execution_count": 21,
   "metadata": {},
   "outputs": [],
   "source": [
    "rooms_count=dict(rooms_count)"
   ]
  },
  {
   "cell_type": "code",
   "execution_count": 36,
   "metadata": {
    "scrolled": true
   },
   "outputs": [
    {
     "name": "stdout",
     "output_type": "stream",
     "text": [
      "{3: 21812, 4: 11576, 2: 10674, 5: 2350, 1: 1670, 6: 283, 7: 36, 8: 19, 10: 6, 12: 2, 9: 2, 31: 1, 16: 1, 11: 1}\n"
     ]
    }
   ],
   "source": [
    "print(rooms_count)"
   ]
  },
  {
   "cell_type": "code",
   "execution_count": 38,
   "metadata": {},
   "outputs": [],
   "source": [
    "a=rooms_count.keys()\n",
    "b=rooms_count.values()"
   ]
  },
  {
   "cell_type": "code",
   "execution_count": 60,
   "metadata": {},
   "outputs": [
    {
     "data": {
      "image/png": "[encoded data removed]",
      "text/plain": [
       "<Figure size 504x504 with 1 Axes>"
      ]
     },
     "metadata": {},
     "output_type": "display_data"
    }
   ],
   "source": [
    "fig =plt.figure(figsize=(7,7))\n",
    "plt.pie(x=b,labels=a)\n",
    "\n",
    "plt.legend()\n",
    "plt.title(\"pie chart of houses-rooms\")\n",
    "plt.show()"
   ]
  },
  {
   "cell_type": "code",
   "execution_count": 22,
   "metadata": {},
   "outputs": [
    {
     "data": {
      "text/plain": [
       "{3: 21812,\n",
       " 4: 11576,\n",
       " 2: 10674,\n",
       " 5: 2350,\n",
       " 1: 1670,\n",
       " 6: 283,\n",
       " 7: 36,\n",
       " 8: 19,\n",
       " 10: 6,\n",
       " 12: 2,\n",
       " 9: 2,\n",
       " 31: 1,\n",
       " 16: 1,\n",
       " 11: 1}"
      ]
     },
     "execution_count": 22,
     "metadata": {},
     "output_type": "execute_result"
    }
   ],
   "source": [
    "rooms_count"
   ]
  },
  {
   "cell_type": "code",
   "execution_count": 53,
   "metadata": {},
   "outputs": [],
   "source": [
    "region_count=df[\"Regionname\"].value_counts()"
   ]
  },
  {
   "cell_type": "code",
   "execution_count": 54,
   "metadata": {},
   "outputs": [],
   "source": [
    "region_count=dict(region_count)"
   ]
  },
  {
   "cell_type": "code",
   "execution_count": 58,
   "metadata": {},
   "outputs": [],
   "source": [
    "r=region_count.keys()\n",
    "rc=region_count.values()"
   ]
  },
  {
   "cell_type": "code",
   "execution_count": 61,
   "metadata": {
    "scrolled": true
   },
   "outputs": [
    {
     "data": {
      "image/png": "[encoded data removed]",
      "text/plain": [
       "<Figure size 432x432 with 1 Axes>"
      ]
     },
     "metadata": {},
     "output_type": "display_data"
    }
   ],
   "source": [
    "fig =plt.figure(figsize=(6,6))\n",
    "plt.pie(x=rc,labels=r)\n",
    "plt.legend()\n",
    "plt.show()\n"
   ]
  },
  {
   "cell_type": "code",
   "execution_count": null,
   "metadata": {},
   "outputs": [],
   "source": []
  },
  {
   "cell_type": "code",
   "execution_count": 81,
   "metadata": {},
   "outputs": [
    {
     "name": "stdout",
     "output_type": "stream",
     "text": [
      "{'h': 34161, 'u': 9292, 't': 4980}\n"
     ]
    }
   ],
   "source": [
    "#Barplot\n",
    "#Type\n",
    "type_count=df[\"Type\"].value_counts()\n",
    "type_count=dict(type_count)\n",
    "print(type_count)"
   ]
  },
  {
   "cell_type": "code",
   "execution_count": 88,
   "metadata": {},
   "outputs": [
    {
     "name": "stdout",
     "output_type": "stream",
     "text": [
      "{'Reservoir': 1067, 'Bentleigh East': 696, 'Richmond': 642, 'Craigieburn': 598, 'Preston': 593, 'Mount Waverley': 556, 'Brunswick': 540, 'Northcote': 496, 'Cheltenham': 493, 'Glen Waverley': 486, 'Essendon': 485, 'Glenroy': 482, 'Coburg': 464, 'Mill Park': 454, 'South Yarra': 436, 'Glen Iris': 434, 'Pascoe Vale': 433, 'Bundoora': 431, 'Kew': 430, 'Hawthorn': 429, 'Epping': 421, 'St Kilda': 410, 'Balwyn North': 407, 'Brighton': 404, 'Thornbury': 394, 'Doncaster East': 393, 'Hoppers Crossing': 381, 'Bentleigh': 378, 'Camberwell': 376, 'Brighton East': 366, 'Port Melbourne': 362, 'Greensborough': 357, 'Yarraville': 351, 'Moonee Ponds': 322, 'Werribee': 319, 'Malvern East': 314, 'Ascot Vale': 313, 'Mentone': 313, 'Mitcham': 308, 'Prahran': 307, 'Carnegie': 307, 'Footscray': 304, 'Keilor East': 304, 'Balwyn': 299, 'Lalor': 297, 'Mulgrave': 297, 'Frankston': 292, 'Newport': 290, 'Brunswick West': 289, 'Hampton': 288, 'Elwood': 282, 'Doncaster': 278, 'Surrey Hills': 277, 'Thomastown': 273, 'Parkdale': 272, 'Sunshine West': 270, 'Maribyrnong': 269, 'Highett': 264, 'St Albans': 261, 'Fawkner': 259, 'South Morang': 256, 'Williamstown': 254, 'Kensington': 253, 'Hawthorn East': 252, 'Beaumaris': 245, 'Sunbury': 244, 'West Footscray': 243, 'Croydon': 237, 'Toorak': 235, 'Templestowe Lower': 232, 'Fitzroy North': 231, 'Sunshine': 229, 'Ivanhoe': 227, 'Blackburn': 226, 'Mernda': 225, 'Ringwood': 223, 'Strathmore': 223, 'Roxburgh Park': 219, 'Burwood': 218, 'Maidstone': 217, 'Broadmeadows': 215, 'Greenvale': 215, 'Eltham': 211, 'Templestowe': 209, 'Melbourne': 207, 'Airport West': 206, 'Sandringham': 204, 'Armadale': 202, 'Hillside': 200, 'Brunswick East': 197, 'South Melbourne': 197, 'Point Cook': 197, 'Coburg North': 194, 'Avondale Heights': 194, 'Montmorency': 192, 'Murrumbeena': 191, 'Wheelers Hill': 186, 'Nunawading': 184, 'Dingley Village': 183, 'Niddrie': 179, 'Heidelberg Heights': 178, 'Sunshine North': 178, 'Bulleen': 177, 'Altona North': 171, 'Gladstone Park': 171, 'Ormond': 169, 'Taylors Lakes': 163, 'Elsternwick': 162, 'Tullamarine': 161, 'Blackburn South': 161, 'Mordialloc': 159, 'MacLeod': 157, 'Malvern': 157, 'Forest Hill': 156, 'Oak Park': 155, 'Fitzroy': 154, 'North Melbourne': 153, 'Donvale': 151, 'Clifton Hill': 151, 'Oakleigh South': 150, 'Ashburton': 150, 'Heidelberg West': 147, 'Moorabbin': 147, 'Rosanna': 146, 'Kew East': 145, 'Altona': 142, 'Abbotsford': 142, 'Blackburn North': 139, 'Collingwood': 138, 'Noble Park': 137, 'Wantirna South': 135, 'Ashwood': 135, 'Seddon': 133, 'Ringwood East': 131, 'Keilor Downs': 128, 'Albert Park': 128, 'Wollert': 127, 'Ferntree Gully': 126, 'Braybrook': 125, 'Flemington': 125, 'Caulfield South': 124, 'Burwood East': 124, 'Seaford': 123, 'Clayton': 123, 'Watsonia': 120, 'Fairfield': 120, 'Carlton': 120, 'Carlton North': 119, 'Hadfield': 119, 'Wyndham Vale': 119, 'Clayton South': 118, 'Edithvale': 117, 'Black Rock': 116, 'Canterbury': 116, 'Box Hill': 116, 'Dandenong North': 116, 'Wantirna': 116, 'Sydenham': 116, 'Hampton East': 115, 'Vermont': 114, 'Westmeadows': 114, 'Chadstone': 112, 'Windsor': 112, 'Doreen': 109, 'Viewbank': 108, 'Dandenong': 108, 'Tarneit': 108, 'Heidelberg': 108, 'Springvale': 108, 'Frankston South': 107, 'Mont Albert': 104, 'Taylors Hill': 104, 'Boronia': 103, 'Chelsea': 103, 'Heathmont': 102, 'McKinnon': 102, 'Deer Park': 101, 'Melton South': 100, 'Oakleigh': 100, 'Aspendale': 98, 'Aberfeldie': 95, 'Kingsville': 92, 'Bayswater': 92, 'Keysborough': 91, 'Berwick': 90, 'Vermont South': 90, 'Oakleigh East': 90, 'Albion': 90, 'Caulfield North': 89, 'Ardeer': 89, 'Mooroolbark': 86, 'Alphington': 85, 'Southbank': 85, 'Meadow Heights': 84, 'Rowville': 82, 'Caroline Springs': 80, 'Gisborne': 77, 'Balaclava': 76, 'Clarinda': 74, 'Diamond Creek': 73, 'Carrum': 73, 'Gowanbrae': 73, 'Hughesdale': 72, 'Eltham North': 71, 'Parkville': 70, 'Glen Huntly': 70, 'Ringwood North': 69, 'Yallambie': 69, 'Briar Hill': 67, 'Altona Meadows': 67, 'Spotswood': 67, 'Jacana': 66, 'Ivanhoe East': 66, 'West Melbourne': 65, 'Keilor': 64, 'Middle Park': 64, 'Dallas': 63, 'Bonbeach': 62, 'Delahey': 60, 'Melton': 60, 'Essendon North': 59, 'Carrum Downs': 58, 'Watsonia North': 58, 'Endeavour Hills': 57, 'Lower Plenty': 57, 'Melton West': 56, 'Eaglemont': 52, 'East Melbourne': 51, 'Cremorne': 51, 'Aspendale Gardens': 51, 'Kings Park': 50, 'Brooklyn': 50, 'Essendon West': 49, 'Kingsbury': 49, 'Keilor Park': 48, 'Narre Warren': 48, 'Kealba': 45, 'Croydon North': 45, 'Truganina': 44, 'Knoxfield': 43, 'Doveton': 43, 'Bayswater North': 42, 'South Kingsville': 42, 'Chelsea Heights': 41, 'Kilsyth': 41, 'Cairnlea': 40, 'Derrimut': 40, 'Bellfield': 39, 'Huntingdale': 39, 'Scoresby': 38, 'Deepdene': 36, 'Springvale South': 36, 'Attwood': 36, 'Patterson Lakes': 34, 'Mickleham': 34, 'Croydon South': 32, 'Langwarrin': 31, 'Williamstown North': 31, 'Pakenham': 30, 'Wallan': 29, 'Warrandyte': 29, 'Frankston North': 29, 'Seaholme': 28, 'Notting Hill': 28, 'Kurunjang': 28, 'Burnside Heights': 26, 'Princes Hill': 26, 'Caulfield East': 24, 'Croydon Hills': 24, 'St Helena': 24, 'Caulfield': 23, 'Plumpton': 23, 'Chirnside Park': 23, 'Ripponlea': 22, 'Campbellfield': 21, 'Cranbourne': 21, 'Albanvale': 20, 'Hampton Park': 19, 'Travancore': 19, 'Strathmore Heights': 19, 'Williams Landing': 18, 'Research': 18, 'Gardenvale': 16, 'Lilydale': 16, 'Macleod': 16, 'Burnley': 16, 'Coolaroo': 15, 'Heatherton': 15, 'Waterways': 15, 'Riddells Creek': 14, 'New Gisborne': 13, 'Keilor Lodge': 13, 'Kooyong': 13, 'Cranbourne West': 12, 'Laverton': 12, 'The Basin': 12, 'Burnside': 12, 'Hallam': 12, 'Warranwood': 12, 'Plenty': 11, 'North Warrandyte': 11, 'Manor Lakes': 10, 'Cranbourne North': 10, 'Skye': 10, 'Docklands': 9, 'Bacchus Marsh': 9, 'Seabrook': 8, 'Cranbourne East': 8, 'Mount Evelyn': 8, 'Eumemmerring': 8, 'Diggers Rest': 8, 'Wattle Glen': 8, 'Brookfield': 8, 'Rockbank': 8, 'Beaconsfield': 7, 'Healesville': 6, 'Whittlesea': 6, 'Emerald': 6, 'Sandhurst': 6, 'Bullengarook': 5, 'Wonga Park': 5, 'Montrose': 5, 'Officer': 5, 'Hurstbridge': 5, 'Upwey': 4, 'Oaklands Junction': 4, 'Tecoma': 4, 'Gisborne South': 4, 'Lynbrook': 4, 'Eynesbury': 3, 'Bulla': 3, 'Silvan': 3, 'Yarra Glen': 3, 'Botanic Ridge': 3, 'Kalkallo': 3, 'Beaconsfield Upper': 3, 'Lysterfield': 3, 'Clyde North': 3, 'Park Orchards': 2, 'Werribee South': 2, 'Lyndhurst': 2, 'Cranbourne South': 2, 'Ferny Creek': 2, 'Panton Hill': 2, 'Monbulk': 2, 'Kilsyth South': 2, 'Don Valley': 1, 'Darley': 1, 'Woori Yallock': 1, 'Chintin': 1, 'Wildwood': 1, 'viewbank': 1, 'Pentland Hills': 1, 'Kalorama': 1, 'Yan Yean': 1, 'Belgrave Heights': 1, 'Seville': 1, 'Warneet': 1, 'Cockatoo': 1, 'Castella': 1, 'Belgrave South': 1, 'Warrandyte South': 1, 'Yarra Junction': 1, 'Coldstream': 1, 'Kallista': 1, 'Belgrave': 1, 'Wandin North': 1, 'Mount Dandenong': 1, 'croydon': 1, 'Olinda': 1}\n"
     ]
    }
   ],
   "source": [
    "#suburb\n",
    "suburb_count=df[\"Suburb\"].value_counts()\n",
    "suburb_count=dict(suburb_count)\n",
    "print(suburb_count)"
   ]
  },
  {
   "cell_type": "code",
   "execution_count": 111,
   "metadata": {},
   "outputs": [],
   "source": [
    "k=list(suburb_count.keys())\n",
    "v=list(suburb_count.values())"
   ]
  },
  {
   "cell_type": "code",
   "execution_count": 114,
   "metadata": {},
   "outputs": [
    {
     "data": {
      "image/png": "[encoded data removed]",
      "text/plain": [
       "<Figure size 648x648 with 1 Axes>"
      ]
     },
     "metadata": {
      "needs_background": "light"
     },
     "output_type": "display_data"
    }
   ],
   "source": [
    "fig =plt.figure(figsize=(9,9))\n",
    "plt.bar(x=k,height=v)\n",
    "plt.show()"
   ]
  },
  {
   "cell_type": "code",
   "execution_count": 89,
   "metadata": {},
   "outputs": [
    {
     "name": "stdout",
     "output_type": "stream",
     "text": [
      "{'S': 30624, 'SP': 6480, 'PI': 5940, 'VB': 5024, 'SA': 365}\n"
     ]
    }
   ],
   "source": [
    "#method\n",
    "method_count=df[\"Method\"].value_counts()\n",
    "method_count=dict(method_count)\n",
    "print(method_count)"
   ]
  },
  {
   "cell_type": "code",
   "execution_count": null,
   "metadata": {},
   "outputs": [],
   "source": [
    "k=list(method_count.keys())\n",
    "v=list(method_count.values())"
   ]
  },
  {
   "cell_type": "code",
   "execution_count": 115,
   "metadata": {},
   "outputs": [
    {
     "data": {
      "image/png": "[encoded data removed]",
      "text/plain": [
       "<Figure size 360x360 with 1 Axes>"
      ]
     },
     "metadata": {
      "needs_background": "light"
     },
     "output_type": "display_data"
    }
   ],
   "source": [
    "fig =plt.figure(figsize=(5,5))\n",
    "plt.bar(x=k,height=v)\n",
    "plt.show()"
   ]
  },
  {
   "cell_type": "code",
   "execution_count": 92,
   "metadata": {},
   "outputs": [
    {
     "data": {
      "image/png": "[encoded data removed]",
      "text/plain": [
       "<Figure size 360x360 with 1 Axes>"
      ]
     },
     "metadata": {
      "needs_background": "light"
     },
     "output_type": "display_data"
    }
   ],
   "source": [
    "fig =plt.figure(figsize=(5,5))\n",
    "plt.bar(x=k,height=v)\n",
    "plt.show()"
   ]
  },
  {
   "cell_type": "code",
   "execution_count": 97,
   "metadata": {},
   "outputs": [],
   "source": [
    "#Scattor plot\n",
    "price=df[\"Price\"]\n",
    "price=list(price)\n",
    "\n",
    "distance=df[\"Distance\"]\n",
    "distance=list(distance)"
   ]
  },
  {
   "cell_type": "code",
   "execution_count": 110,
   "metadata": {},
   "outputs": [
    {
     "data": {
      "image/png": "[encoded data removed]",
      "text/plain": [
       "<Figure size 360x360 with 1 Axes>"
      ]
     },
     "metadata": {
      "needs_background": "light"
     },
     "output_type": "display_data"
    }
   ],
   "source": [
    "fig =plt.figure(figsize=(5,5))\n",
    "plt.plot(distance,price,linestyle=\"\",marker=\"*\",markeredgecolor=\"black\",markerfacecolor=\"blue\")\n",
    "plt.xlabel(\"Distance\")\n",
    "plt.ylabel(\"Price\")\n",
    "plt.title(\"distance vs price\")\n",
    "plt.show()"
   ]
  },
  {
   "cell_type": "code",
   "execution_count": null,
   "metadata": {},
   "outputs": [],
   "source": []
  }
 ],
 "metadata": {
  "kernelspec": {
   "display_name": "Python 3",
   "language": "python",
   "name": "python3"
  },
  "language_info": {
   "codemirror_mode": {
    "name": "ipython",
    "version": 3
   },
   "file_extension": ".py",
   "mimetype": "text/x-python",
   "name": "python",
   "nbconvert_exporter": "python",
   "pygments_lexer": "ipython3",
   "version": "3.7.6"
  }
 },
 "nbformat": 4,
 "nbformat_minor": 4
}
